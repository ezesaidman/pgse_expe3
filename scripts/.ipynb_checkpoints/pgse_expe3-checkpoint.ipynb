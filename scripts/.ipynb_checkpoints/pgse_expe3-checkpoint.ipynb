{
 "cells": [
  {
   "cell_type": "code",
   "execution_count": 1,
   "metadata": {},
   "outputs": [],
   "source": [
    "import numpy as np\n",
    "import matplotlib.pyplot as plt\n",
    "import scipy.optimize as op\n",
    "from brukerapi.dataset import Dataset as ds\n",
    "import glob\n",
    "import os\n",
    "import lmfit"
   ]
  },
  {
   "cell_type": "code",
   "execution_count": 2,
   "metadata": {},
   "outputs": [],
   "source": [
    "def sortKeyFunc(s):\n",
    "    return int(os.path.basename(s)[0:])\n",
    "\n",
    "def pgse_params(method_path): # funcion que recibe como argumento archivo method y devuelve dict con b_values, grad_sep y grad_dur\n",
    "    with open(method_path) as file:\n",
    "        txt = file.read()\n",
    "        \n",
    "        start_idx = txt.find(\"$PVM_DwEffBval\") + len(\"$PVM_DwEffBval\") + 7\n",
    "        end_idx = txt.find(\"##$PVM_DwGradVec\")-1\n",
    "        b_string = txt[start_idx:end_idx]\n",
    "        b_values = list(map(float, b_string.split()))\n",
    "\n",
    "        start_idx = txt.find(\"$PVM_DwGradSep\") + len(\"$PVM_DwGradSep\") + 7\n",
    "        end_idx = txt.find(\"$$ @vis= PVM_TeDwSliceSpoilGradLim\")-1\n",
    "        grad_sep = float(txt[start_idx:end_idx])\n",
    "\n",
    "        start_idx = txt.find(\"$PVM_DwGradDur\") + len(\"$PVM_DwGradDur\") + 7\n",
    "        end_idx = txt.find(\"##$PVM_DwGradSep\")\n",
    "        grad_dur = float(txt[start_idx:end_idx])\n",
    "\n",
    "        return {\"b_values\": b_values, \"grad_sep\": grad_sep, \"grad_dur\": grad_dur}"
   ]
  },
  {
   "cell_type": "markdown",
   "metadata": {},
   "source": [
    "## Función para calcular el coeficiente de difusion aparente a partir de los datos de un experimento\n",
    "***\n",
    "En el límite de $q=\\gamma \\delta g$ chico tenemos que \n",
    "\n",
    "$$\n",
    "M_\\mathrm{PGSE}(t_d)=M_0(1-D_\\mathrm{eff}b_\\mathrm{value})\n",
    "$$\n",
    "\n",
    "con $D_\\mathrm{eff}$ definido como $D_\\mathrm{eff}(t)=\\langle \\Delta x(t)^2 \\rangle/2t$. \n",
    "\n",
    "Entonces buscamos a ojo en que parte de la curva $M_\\mathrm{PGSE}(t_d)$ vs $q^2$ tengo comportamiento lineal y ajusto ahi el modelo para obtener $D_\\mathrm{eff}(t)$."
   ]
  },
  {
   "cell_type": "code",
   "execution_count": 3,
   "metadata": {},
   "outputs": [],
   "source": [
    "# funcion que calcula magnetización media en cada roi\n",
    "\n",
    "def roi_M(im, roi_set):\n",
    "    f1_roi, f2_roi, w_roi = roi_set\n",
    "    M_f1 = np.mean(im[f1_roi[1]:f1_roi[1]+f1_roi[3],f1_roi[0]:f1_roi[0]+f1_roi[2]])\n",
    "    M_f2 = np.mean(im[f2_roi[1]:f2_roi[1]+f2_roi[3],f2_roi[0]:f2_roi[0]+f2_roi[2]])\n",
    "    M_w = np.mean(im[w_roi[1]:w_roi[1]+w_roi[3],w_roi[0]:w_roi[0]+w_roi[2]])\n",
    "\n",
    "    return [M_f1, M_f2, M_w]\n",
    "\n",
    "# carga rois\n",
    "\n",
    "roi_set = np.genfromtxt(\"ROIset.txt\", dtype=np.int)\n",
    "f1_roi, f2_roi, w_roi = roi_set\n",
    "\n",
    "# carga todos los datos de la carpeta data en 3 diccionarios: M_dict tiene todas las magnetizaciones, b_values_dict \n",
    "# los b_values y params_dict los valores de delta y Delta. Todos con el numero de serie como key.\n",
    "\n",
    "data_paths = sorted(glob.glob(\"../data/*/pdata/1/2dseq\"))\n",
    "method_paths = sorted(glob.glob(\"../data/*/method\"))\n",
    "\n",
    "params_dict = {}\n",
    "M_dict = {}\n",
    "A0_dict = {}\n",
    "b_values_dict = {}\n",
    "\n",
    "for data_path, method_path in zip(data_paths, method_paths):\n",
    "    try:   \n",
    "        M_list = []\n",
    "        A0_list = []\n",
    "        data_set = np.array(ds(data_path).data)\n",
    "\n",
    "        start = method_path.find(\"data/\") + len(\"data/\")\n",
    "        end = method_path.find(\"/method\")\n",
    "        serie_num = int(method_path[start:end])     \n",
    "\n",
    "        for it in range(len(data_set[0,0,0,:])):\n",
    "            M_list.append(roi_M(data_set[:,:,0,it], roi_set))\n",
    "        M_list = np.array(M_list).transpose()\n",
    "        M_dict[serie_num] = M_list\n",
    "\n",
    "        b_values = list(pgse_params(method_path).values())[0]\n",
    "        b_values_dict[serie_num] = b_values\n",
    "        \n",
    "        params_dict[serie_num] = list(pgse_params(method_path).values())[1:]\n",
    "    except: pass"
   ]
  },
  {
   "cell_type": "code",
   "execution_count": 4,
   "metadata": {},
   "outputs": [],
   "source": [
    "# ordeno las series, en este caso en la carpeta data tengo una sola, a\n",
    "\n",
    "range_0 = np.arange(181,192) # array con las carpetas que tienen los datos de la serie 0\n",
    "\n",
    "M_dict_0 = {k:v for k,v in M_dict.items() if k in range(181,192)} # señal\n",
    "M_experiments = [M_dict_0]\n",
    "\n",
    "b_values_dict_0 = {k:v for k,v in b_values_dict.items() if k in range_0} # b_values\n",
    "b_values_experiments = [b_values_dict_0]\n",
    "\n",
    "params_dict_0 = {k:v for k,v in params_dict.items() if k in range(181,192)} # parametros\n",
    "params_experiments = [params_dict_0]"
   ]
  },
  {
   "cell_type": "code",
   "execution_count": 15,
   "metadata": {},
   "outputs": [
    {
     "data": {
      "text/plain": [
       "<Figure size 432x288 with 0 Axes>"
      ]
     },
     "metadata": {},
     "output_type": "display_data"
    }
   ],
   "source": [
    "# ajusto y obtengo el Deff vs t_d\n",
    "\n",
    "low_q_to = {0: 3} # tomo los datos en los cuales estoy en el limite de q chico\n",
    "low_q_fr = {0: 0}\n",
    "\n",
    "def low_q_D(b, M0, D):\n",
    "    return M0 * (1 - b * D)\n",
    "\n",
    "i = 0\n",
    "savefits = True\n",
    "p0 = [300, 0.001]\n",
    "\n",
    "M_f1 = [v[0] for k,v in M_experiments[i].items()]\n",
    "M_f2 = [v[1] for k,v in M_experiments[i].items()]\n",
    "M_w = [v[2] for k,v in M_experiments[i].items()]\n",
    "\n",
    "b_values = list(b_values_experiments[i].values())\n",
    "t_ds = [Delta - delta/3 for Delta, delta in params_experiments[i].values()]\n",
    "\n",
    "try:\n",
    "    to = low_q_to[i]\n",
    "    fr = low_q_fr[i]\n",
    "    maxfev = 3000\n",
    "    params_fit_f1 = [op.curve_fit(low_q_D, b_value[fr:to], np.array(M_f1_vals)[fr:to], p0=p0, maxfev=maxfev)[0] for b_value, M_f1_vals in zip(b_values, M_f1)]\n",
    "    params_fit_f2 = [op.curve_fit(low_q_D, b_value[fr:to], np.array(M_f2_vals)[fr:to], p0=p0, maxfev=maxfev)[0] for b_value, M_f2_vals in zip(b_values, M_f2)]\n",
    "    params_fit_w  = [op.curve_fit(low_q_D, b_value[fr:to], np.array(M_w_vals)[fr:to], p0=p0, maxfev=maxfev)[0] for b_value, M_w_vals in zip(b_values, M_w)]\n",
    "except Exception as e: \n",
    "    print(\"no ajusta, error:\", e)\n",
    "\n",
    "D_f1 = [params[1] for params, t_d in zip(params_fit_f1, t_ds)]\n",
    "D_f2 = [params[1] for params, t_d in zip(params_fit_f2, t_ds)]\n",
    "D_w =  [params[1] for params, t_d in zip(params_fit_w , t_ds)]\n",
    "\n",
    "if savefits==True:\n",
    "    \n",
    "    # creo los directorios donde se guarda, si es que no existen\n",
    "    \n",
    "    try:\n",
    "        os.mkdir(\"../plots\")\n",
    "    except: pass\n",
    "    \n",
    "    try:\n",
    "        os.mkdir(\"../plots/fits\")\n",
    "    except: pass\n",
    "\n",
    "    try:\n",
    "        os.mkdir(\"../plots/fits/\" + str(i))\n",
    "        os.mkdir(\"../plots/fits/\" + str(i) + \"/f1\")\n",
    "        os.mkdir(\"../plots/fits/\" + str(i) + \"/f2\")\n",
    "        os.mkdir(\"../plots/fits/\" + str(i) + \"/w\")\n",
    "    except: pass\n",
    "\n",
    "    #ploteo los ajustes y los guardo\n",
    "\n",
    "    for b_value, f1, f2, w, param_f1, param_f2, param_w, td in zip(b_values, M_f1, M_f2, M_w, params_fit_f1, params_fit_f2, params_fit_w, t_ds):\n",
    "        plt.plot(np.array(b_value), np.array(f1), \"o\")\n",
    "        A, D = param_f1\n",
    "        plt.plot(b_value, low_q_D(np.array(b_value), A, D), label=\"fit\")\n",
    "        plt.grid()\n",
    "        plt.xlabel(\"$B_{value}$\")\n",
    "        plt.ylabel(\"M\")\n",
    "        plt.legend()\n",
    "        plt.savefig(\"../plots/fits/\" + str(i) + \"/f1/td_\" + str(round(td, 3)) + \".pdf\", bbox_inches=\"tight\")\n",
    "        plt.clf()\n",
    "\n",
    "        plt.plot(np.array(b_value), np.array(f2), \"o\")\n",
    "        A, D = param_f2\n",
    "        plt.plot(b_value, low_q_D(np.array(b_value), A, D), label=\"fit\")\n",
    "        plt.grid()\n",
    "        plt.xlabel(\"$B_{value}$\")\n",
    "        plt.ylabel(\"M\")\n",
    "        plt.legend()\n",
    "        plt.savefig(\"../plots/fits/\" + str(i) + \"/f2/td_\" + str(round(td, 3)) + \".pdf\", bbox_inches=\"tight\")\n",
    "        plt.clf()\n",
    "\n",
    "        plt.plot(np.array(b_value), np.array(w), \"o\")\n",
    "        A, D = param_w\n",
    "        plt.plot(b_value, low_q_D(np.array(b_value), A, D), label=\"fit\")\n",
    "        plt.grid()\n",
    "        plt.xlabel(\"$B_{value}$\")\n",
    "        plt.ylabel(\"M\")\n",
    "        plt.legend()\n",
    "        plt.savefig(\"../plots/fits/\" + str(i) + \"/w/td_\" + str(round(td, 3)) + \".pdf\", bbox_inches=\"tight\")\n",
    "        plt.clf()\n",
    "\n",
    "Deff = np.array([np.array(D_f1)*1e3, np.array(D_f2)*1e3, np.array(D_w)*1e3, np.array(t_ds)]) # devuelvo los coef de difusión en um**2/ms"
   ]
  },
  {
   "cell_type": "code",
   "execution_count": 20,
   "metadata": {},
   "outputs": [
    {
     "data": {
      "text/plain": [
       "<matplotlib.legend.Legend at 0x7fc757ead040>"
      ]
     },
     "execution_count": 20,
     "metadata": {},
     "output_type": "execute_result"
    },
    {
     "data": {
      "image/png": "[encoded data removed]",
      "text/plain": [
       "<Figure size 432x288 with 1 Axes>"
      ]
     },
     "metadata": {
      "needs_background": "light"
     },
     "output_type": "display_data"
    }
   ],
   "source": [
    "# ploteo los Deff obtenidos\n",
    "\n",
    "fig, ax = plt.subplots()\n",
    "\n",
    "f1, f2, w, t_d = Deff\n",
    "\n",
    "ax.plot(t_d, f1, \"-o\", label=\"f1\")\n",
    "\n",
    "ax.grid()\n",
    "ax.set_xlabel(\"$t_d$ [ms]\")\n",
    "ax.set_ylabel(\"$Deff(t_d)$\")\n",
    "ax.legend()"
   ]
  },
  {
   "cell_type": "code",
   "execution_count": null,
   "metadata": {},
   "outputs": [],
   "source": []
  }
 ],
 "metadata": {
  "kernelspec": {
   "display_name": "Python 3",
   "language": "python",
   "name": "python3"
  },
  "language_info": {
   "codemirror_mode": {
    "name": "ipython",
    "version": 3
   },
   "file_extension": ".py",
   "mimetype": "text/x-python",
   "name": "python",
   "nbconvert_exporter": "python",
   "pygments_lexer": "ipython3",
   "version": "3.8.10"
  }
 },
 "nbformat": 4,
 "nbformat_minor": 4
}
